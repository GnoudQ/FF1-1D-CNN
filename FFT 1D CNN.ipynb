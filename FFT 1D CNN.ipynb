{
 "cells": [
  {
   "cell_type": "code",
   "execution_count": 1,
   "id": "263d7c1e-c58b-4fd7-a1e4-b3de35722454",
   "metadata": {},
   "outputs": [
    {
     "name": "stderr",
     "output_type": "stream",
     "text": [
      "2023-06-23 10:51:56.154073: I tensorflow/core/platform/cpu_feature_guard.cc:182] This TensorFlow binary is optimized to use available CPU instructions in performance-critical operations.\n",
      "To enable the following instructions: AVX2 FMA, in other operations, rebuild TensorFlow with the appropriate compiler flags.\n"
     ]
    }
   ],
   "source": [
    "import os\n",
    "import zipfile\n",
    "import random\n",
    "import shutil\n",
    "import tensorflow as tf\n",
    "from shutil import copyfile\n",
    "import matplotlib.pyplot as plt\n",
    "import numpy as np\n",
    "from sklearn.model_selection import train_test_split\n",
    "from sklearn.preprocessing import LabelEncoder\n",
    "from tensorflow.keras.callbacks import EarlyStopping"
   ]
  },
  {
   "cell_type": "code",
   "execution_count": 2,
   "id": "c2b6fb6c-b10f-4d06-bd3a-bfba709cfaed",
   "metadata": {},
   "outputs": [],
   "source": [
    "local_zip = 'fft_npa.zip'\n",
    "zip_ref   = zipfile.ZipFile(local_zip, 'r')\n",
    "zip_ref.extractall('/data')\n",
    "zip_ref.close()"
   ]
  },
  {
   "cell_type": "code",
   "execution_count": 3,
   "id": "b7aae131-4ca5-44f7-b5c0-11797d181b98",
   "metadata": {},
   "outputs": [],
   "source": [
    "VALIDATION_DIR = '/data/fft_npa/val'\n",
    "TEST_DIR = '/data/fft_npa/test'\n",
    "TRAINING_DIR = '/data/fft_npa/train'"
   ]
  },
  {
   "cell_type": "code",
   "execution_count": 4,
   "id": "f82e43de-6fbf-4043-932f-a5cca5867bc2",
   "metadata": {},
   "outputs": [],
   "source": [
    "# Load FFT features from numpy arrays\n",
    "def load_data(directory):\n",
    "    mfcc_features = []\n",
    "    labels = []\n",
    "    for label in os.listdir(directory):\n",
    "        label_dir = os.path.join(directory, label)\n",
    "        if not os.path.isdir(label_dir):\n",
    "            continue\n",
    "        for filename in os.listdir(label_dir):\n",
    "            file_path = os.path.join(label_dir, filename)\n",
    "            if not os.path.isfile(file_path):\n",
    "                continue\n",
    "            mfcc = np.load(file_path)\n",
    "            mfcc_features.append(mfcc)\n",
    "            labels.append(label)\n",
    "    return mfcc_features, labels"
   ]
  },
  {
   "cell_type": "code",
   "execution_count": 5,
   "id": "e9a4f574-9f1a-4ae1-87e6-2925592914b2",
   "metadata": {},
   "outputs": [],
   "source": [
    "# Load training data\n",
    "train_mfcc_features, train_labels = load_data(TRAINING_DIR)\n",
    "\n",
    "# Load validation data\n",
    "val_mfcc_features, val_labels = load_data(VALIDATION_DIR)\n",
    "\n",
    "# Load test data\n",
    "test_mfcc_features, test_labels = load_data(TEST_DIR)"
   ]
  },
  {
   "cell_type": "code",
   "execution_count": 6,
   "id": "e3bf56bb-9fd7-47f1-878a-8d87343c914e",
   "metadata": {},
   "outputs": [],
   "source": [
    "# Convert labels to numeric values\n",
    "label_encoder = LabelEncoder()\n",
    "encoded_train_labels = label_encoder.fit_transform(train_labels)\n",
    "encoded_val_labels = label_encoder.transform(val_labels)\n",
    "encoded_test_labels = label_encoder.transform(test_labels)"
   ]
  },
  {
   "cell_type": "code",
   "execution_count": 7,
   "id": "2c2e75cf-6f54-4591-a804-7310ef405286",
   "metadata": {},
   "outputs": [],
   "source": [
    "# Convert the data to NumPy arrays\n",
    "X_train = np.array(train_mfcc_features)\n",
    "y_train = np.array(encoded_train_labels)\n",
    "\n",
    "X_val = np.array(val_mfcc_features)\n",
    "y_val = np.array(encoded_val_labels)\n",
    "\n",
    "X_test = np.array(test_mfcc_features)\n",
    "y_test = np.array(encoded_test_labels)"
   ]
  },
  {
   "cell_type": "code",
   "execution_count": 8,
   "id": "33c2d649-4ab2-497c-9250-bbe9bd4e32fd",
   "metadata": {},
   "outputs": [],
   "source": [
    "# Reshape the input data\n",
    "X_train = X_train.reshape(X_train.shape[0], X_train.shape[1], 1)\n",
    "X_val = X_val.reshape(X_val.shape[0], X_val.shape[1], 1)\n",
    "X_test = X_test.reshape(X_test.shape[0], X_test.shape[1], 1)\n",
    "\n",
    "# Determine the shape of the FFT features\n",
    "input_shape = X_train.shape[1:]"
   ]
  },
  {
   "cell_type": "code",
   "execution_count": 9,
   "id": "13ea2528-8a7d-4dd6-8e25-b852a767ff2d",
   "metadata": {},
   "outputs": [],
   "source": [
    "# Define the model architecture\n",
    "def create_model(input_shape):\n",
    "    model = tf.keras.models.Sequential([\n",
    "        tf.keras.layers.Conv1D(32, 3, activation='relu', input_shape=input_shape),\n",
    "        tf.keras.layers.MaxPooling1D(2),\n",
    "        tf.keras.layers.Conv1D(64, 3, activation='relu'),\n",
    "        tf.keras.layers.MaxPooling1D(2),\n",
    "        tf.keras.layers.Conv1D(128, 3, activation='relu'),\n",
    "        tf.keras.layers.MaxPooling1D(2),\n",
    "        tf.keras.layers.Conv1D(256, 3, activation='relu'),\n",
    "        tf.keras.layers.MaxPooling1D(2),\n",
    "        tf.keras.layers.Flatten(),\n",
    "        tf.keras.layers.Dense(256, activation='relu'),\n",
    "        tf.keras.layers.Dense(2, activation='sigmoid')\n",
    "    ])\n",
    "    return model"
   ]
  },
  {
   "cell_type": "code",
   "execution_count": 10,
   "id": "6ad7809b-f4b5-4432-a283-66def9380ad9",
   "metadata": {},
   "outputs": [
    {
     "name": "stderr",
     "output_type": "stream",
     "text": [
      "2023-06-23 10:53:09.802239: I tensorflow/core/common_runtime/gpu/gpu_device.cc:1635] Created device /job:localhost/replica:0/task:0/device:GPU:0 with 22250 MB memory:  -> device: 0, name: NVIDIA GeForce RTX 3090, pci bus id: 0000:81:00.0, compute capability: 8.6\n"
     ]
    }
   ],
   "source": [
    "# Create the model\n",
    "model = create_model(input_shape=input_shape)\n",
    "early_stop_training = EarlyStopping(monitor = 'val_accuracy', patience=10,restore_best_weights=True)\n",
    "model.compile(optimizer=tf.keras.optimizers.AdamW(learning_rate=0.00009),\n",
    "              loss='sparse_categorical_crossentropy',\n",
    "              metrics=['accuracy'])"
   ]
  },
  {
   "cell_type": "code",
   "execution_count": 11,
   "id": "ee19da5a-c717-418f-8f4f-421e210f5638",
   "metadata": {},
   "outputs": [
    {
     "name": "stderr",
     "output_type": "stream",
     "text": [
      "2023-06-23 10:53:24.855165: W tensorflow/tsl/framework/cpu_allocator_impl.cc:83] Allocation of 2469600000 exceeds 10% of free system memory.\n",
      "2023-06-23 10:53:28.129880: W tensorflow/tsl/framework/cpu_allocator_impl.cc:83] Allocation of 2469600000 exceeds 10% of free system memory.\n"
     ]
    },
    {
     "name": "stdout",
     "output_type": "stream",
     "text": [
      "Epoch 1/120\n"
     ]
    },
    {
     "name": "stderr",
     "output_type": "stream",
     "text": [
      "2023-06-23 10:53:32.563037: I tensorflow/compiler/xla/stream_executor/cuda/cuda_dnn.cc:424] Loaded cuDNN version 8600\n",
      "2023-06-23 10:53:34.047014: I tensorflow/compiler/xla/stream_executor/cuda/cuda_blas.cc:637] TensorFloat-32 will be used for the matrix multiplication. This will only be logged once.\n",
      "2023-06-23 10:53:34.056770: I tensorflow/compiler/xla/service/service.cc:169] XLA service 0x7fa69eb8cc90 initialized for platform CUDA (this does not guarantee that XLA will be used). Devices:\n",
      "2023-06-23 10:53:34.056798: I tensorflow/compiler/xla/service/service.cc:177]   StreamExecutor device (0): NVIDIA GeForce RTX 3090, Compute Capability 8.6\n",
      "2023-06-23 10:53:34.077405: I tensorflow/compiler/mlir/tensorflow/utils/dump_mlir_util.cc:269] disabling MLIR crash reproducer, set env var `MLIR_CRASH_REPRODUCER_DIRECTORY` to enable.\n",
      "2023-06-23 10:53:34.330305: I ./tensorflow/compiler/jit/device_compiler.h:180] Compiled cluster using XLA!  This line is logged at most once for the lifetime of the process.\n"
     ]
    },
    {
     "name": "stdout",
     "output_type": "stream",
     "text": [
      "438/438 [==============================] - 61s 123ms/step - loss: 0.4869 - accuracy: 0.7657 - val_loss: 0.4120 - val_accuracy: 0.8310\n",
      "Epoch 2/120\n",
      "438/438 [==============================] - 29s 66ms/step - loss: 0.3574 - accuracy: 0.8491 - val_loss: 0.3591 - val_accuracy: 0.8605\n",
      "Epoch 3/120\n",
      "438/438 [==============================] - 28s 63ms/step - loss: 0.2982 - accuracy: 0.8749 - val_loss: 0.3114 - val_accuracy: 0.8685\n",
      "Epoch 4/120\n",
      "438/438 [==============================] - 28s 63ms/step - loss: 0.2478 - accuracy: 0.8982 - val_loss: 0.2754 - val_accuracy: 0.8900\n",
      "Epoch 5/120\n",
      "438/438 [==============================] - 28s 64ms/step - loss: 0.2205 - accuracy: 0.9086 - val_loss: 0.2577 - val_accuracy: 0.9090\n",
      "Epoch 6/120\n",
      "438/438 [==============================] - 27s 63ms/step - loss: 0.1791 - accuracy: 0.9262 - val_loss: 0.2250 - val_accuracy: 0.9105\n",
      "Epoch 7/120\n",
      "438/438 [==============================] - 27s 62ms/step - loss: 0.1463 - accuracy: 0.9429 - val_loss: 0.2118 - val_accuracy: 0.9120\n",
      "Epoch 8/120\n",
      "438/438 [==============================] - 28s 63ms/step - loss: 0.1160 - accuracy: 0.9563 - val_loss: 0.2015 - val_accuracy: 0.9175\n",
      "Epoch 9/120\n",
      "438/438 [==============================] - 27s 63ms/step - loss: 0.0932 - accuracy: 0.9649 - val_loss: 0.1944 - val_accuracy: 0.9265\n",
      "Epoch 10/120\n",
      "438/438 [==============================] - 24s 55ms/step - loss: 0.0697 - accuracy: 0.9754 - val_loss: 0.2373 - val_accuracy: 0.9120\n",
      "Epoch 11/120\n",
      "438/438 [==============================] - 24s 55ms/step - loss: 0.0680 - accuracy: 0.9763 - val_loss: 0.2767 - val_accuracy: 0.9150\n",
      "Epoch 12/120\n",
      "438/438 [==============================] - 27s 61ms/step - loss: 0.0579 - accuracy: 0.9802 - val_loss: 0.2231 - val_accuracy: 0.9275\n",
      "Epoch 13/120\n",
      "438/438 [==============================] - 24s 55ms/step - loss: 0.0285 - accuracy: 0.9924 - val_loss: 0.2799 - val_accuracy: 0.9200\n",
      "Epoch 14/120\n",
      "438/438 [==============================] - 24s 55ms/step - loss: 0.0254 - accuracy: 0.9931 - val_loss: 0.2520 - val_accuracy: 0.9190\n",
      "Epoch 15/120\n",
      "438/438 [==============================] - 27s 61ms/step - loss: 0.0195 - accuracy: 0.9954 - val_loss: 0.2227 - val_accuracy: 0.9340\n",
      "Epoch 16/120\n",
      "438/438 [==============================] - 24s 55ms/step - loss: 0.0356 - accuracy: 0.9881 - val_loss: 0.2248 - val_accuracy: 0.9340\n",
      "Epoch 17/120\n",
      "438/438 [==============================] - 37s 85ms/step - loss: 0.0134 - accuracy: 0.9972 - val_loss: 0.2611 - val_accuracy: 0.9360\n",
      "Epoch 18/120\n",
      "438/438 [==============================] - 24s 55ms/step - loss: 0.0049 - accuracy: 0.9995 - val_loss: 0.2951 - val_accuracy: 0.9330\n",
      "Epoch 19/120\n",
      "438/438 [==============================] - 36s 82ms/step - loss: 0.0177 - accuracy: 0.9954 - val_loss: 0.2614 - val_accuracy: 0.9370\n",
      "Epoch 20/120\n",
      "438/438 [==============================] - 24s 55ms/step - loss: 0.0222 - accuracy: 0.9939 - val_loss: 0.3590 - val_accuracy: 0.9100\n",
      "Epoch 21/120\n",
      "438/438 [==============================] - 24s 55ms/step - loss: 0.0110 - accuracy: 0.9971 - val_loss: 0.3186 - val_accuracy: 0.9355\n",
      "Epoch 22/120\n",
      "438/438 [==============================] - 24s 55ms/step - loss: 0.0025 - accuracy: 0.9999 - val_loss: 0.2972 - val_accuracy: 0.9360\n",
      "Epoch 23/120\n",
      "438/438 [==============================] - 24s 55ms/step - loss: 0.0011 - accuracy: 1.0000 - val_loss: 0.3144 - val_accuracy: 0.9360\n",
      "Epoch 24/120\n",
      "438/438 [==============================] - 45s 103ms/step - loss: 6.9102e-04 - accuracy: 1.0000 - val_loss: 0.3218 - val_accuracy: 0.9380\n",
      "Epoch 25/120\n",
      "438/438 [==============================] - 38s 86ms/step - loss: 4.9759e-04 - accuracy: 1.0000 - val_loss: 0.3332 - val_accuracy: 0.9385\n",
      "Epoch 26/120\n",
      "438/438 [==============================] - 24s 55ms/step - loss: 4.1571e-04 - accuracy: 1.0000 - val_loss: 0.3556 - val_accuracy: 0.9365\n",
      "Epoch 27/120\n",
      "438/438 [==============================] - 40s 91ms/step - loss: 3.0226e-04 - accuracy: 1.0000 - val_loss: 0.3568 - val_accuracy: 0.9410\n",
      "Epoch 28/120\n",
      "438/438 [==============================] - 24s 55ms/step - loss: 2.1738e-04 - accuracy: 1.0000 - val_loss: 0.3708 - val_accuracy: 0.9410\n",
      "Epoch 29/120\n",
      "438/438 [==============================] - 30s 68ms/step - loss: 1.7267e-04 - accuracy: 1.0000 - val_loss: 0.3840 - val_accuracy: 0.9415\n",
      "Epoch 30/120\n",
      "438/438 [==============================] - 29s 65ms/step - loss: 1.3301e-04 - accuracy: 1.0000 - val_loss: 0.3967 - val_accuracy: 0.9435\n",
      "Epoch 31/120\n",
      "438/438 [==============================] - 24s 55ms/step - loss: 1.0661e-04 - accuracy: 1.0000 - val_loss: 0.4106 - val_accuracy: 0.9425\n",
      "Epoch 32/120\n",
      "438/438 [==============================] - 24s 55ms/step - loss: 7.7636e-05 - accuracy: 1.0000 - val_loss: 0.4218 - val_accuracy: 0.9410\n",
      "Epoch 33/120\n",
      "438/438 [==============================] - 24s 55ms/step - loss: 6.0263e-05 - accuracy: 1.0000 - val_loss: 0.4363 - val_accuracy: 0.9425\n",
      "Epoch 34/120\n",
      "438/438 [==============================] - 25s 57ms/step - loss: 4.6809e-05 - accuracy: 1.0000 - val_loss: 0.4433 - val_accuracy: 0.9445\n",
      "Epoch 35/120\n",
      "438/438 [==============================] - 24s 55ms/step - loss: 3.6043e-05 - accuracy: 1.0000 - val_loss: 0.4676 - val_accuracy: 0.9435\n",
      "Epoch 36/120\n",
      "438/438 [==============================] - 24s 55ms/step - loss: 2.8505e-05 - accuracy: 1.0000 - val_loss: 0.4660 - val_accuracy: 0.9420\n",
      "Epoch 37/120\n",
      "438/438 [==============================] - 24s 55ms/step - loss: 2.1819e-05 - accuracy: 1.0000 - val_loss: 0.4789 - val_accuracy: 0.9430\n",
      "Epoch 38/120\n",
      "438/438 [==============================] - 24s 55ms/step - loss: 1.6272e-05 - accuracy: 1.0000 - val_loss: 0.4959 - val_accuracy: 0.9445\n",
      "Epoch 39/120\n",
      "438/438 [==============================] - 24s 55ms/step - loss: 1.2948e-05 - accuracy: 1.0000 - val_loss: 0.5116 - val_accuracy: 0.9435\n",
      "Epoch 40/120\n",
      "438/438 [==============================] - 25s 57ms/step - loss: 1.0101e-05 - accuracy: 1.0000 - val_loss: 0.5185 - val_accuracy: 0.9450\n",
      "Epoch 41/120\n",
      "438/438 [==============================] - 25s 57ms/step - loss: 7.7170e-06 - accuracy: 1.0000 - val_loss: 0.5226 - val_accuracy: 0.9455\n",
      "Epoch 42/120\n",
      "438/438 [==============================] - 24s 55ms/step - loss: 7.7222e-06 - accuracy: 1.0000 - val_loss: 0.5568 - val_accuracy: 0.9440\n",
      "Epoch 43/120\n",
      "438/438 [==============================] - 25s 57ms/step - loss: 5.0489e-06 - accuracy: 1.0000 - val_loss: 0.5477 - val_accuracy: 0.9460\n",
      "Epoch 44/120\n",
      "438/438 [==============================] - 24s 55ms/step - loss: 3.2682e-06 - accuracy: 1.0000 - val_loss: 0.5646 - val_accuracy: 0.9455\n",
      "Epoch 45/120\n",
      "438/438 [==============================] - 24s 55ms/step - loss: 2.4077e-06 - accuracy: 1.0000 - val_loss: 0.5766 - val_accuracy: 0.9430\n",
      "Epoch 46/120\n",
      "438/438 [==============================] - 24s 55ms/step - loss: 2.0248e-06 - accuracy: 1.0000 - val_loss: 0.5899 - val_accuracy: 0.9450\n",
      "Epoch 47/120\n",
      "438/438 [==============================] - 25s 57ms/step - loss: 1.5586e-06 - accuracy: 1.0000 - val_loss: 0.5953 - val_accuracy: 0.9470\n",
      "Epoch 48/120\n",
      "438/438 [==============================] - 24s 55ms/step - loss: 1.2303e-06 - accuracy: 1.0000 - val_loss: 0.6073 - val_accuracy: 0.9465\n",
      "Epoch 49/120\n",
      "438/438 [==============================] - 24s 55ms/step - loss: 9.5017e-07 - accuracy: 1.0000 - val_loss: 0.6286 - val_accuracy: 0.9450\n",
      "Epoch 50/120\n",
      "438/438 [==============================] - 24s 55ms/step - loss: 8.1883e-07 - accuracy: 1.0000 - val_loss: 0.6411 - val_accuracy: 0.9460\n",
      "Epoch 51/120\n",
      "438/438 [==============================] - 24s 55ms/step - loss: 6.0863e-07 - accuracy: 1.0000 - val_loss: 0.6524 - val_accuracy: 0.9470\n",
      "Epoch 52/120\n",
      "438/438 [==============================] - 24s 55ms/step - loss: 4.7566e-07 - accuracy: 1.0000 - val_loss: 0.6566 - val_accuracy: 0.9465\n",
      "Epoch 53/120\n",
      "438/438 [==============================] - 24s 55ms/step - loss: 3.9792e-07 - accuracy: 1.0000 - val_loss: 0.6771 - val_accuracy: 0.9460\n",
      "Epoch 54/120\n",
      "438/438 [==============================] - 24s 55ms/step - loss: 2.8503e-07 - accuracy: 1.0000 - val_loss: 0.6833 - val_accuracy: 0.9460\n",
      "Epoch 55/120\n",
      "438/438 [==============================] - 24s 55ms/step - loss: 2.3618e-07 - accuracy: 1.0000 - val_loss: 0.7040 - val_accuracy: 0.9455\n",
      "Epoch 56/120\n",
      "438/438 [==============================] - 24s 55ms/step - loss: 1.8159e-07 - accuracy: 1.0000 - val_loss: 0.7051 - val_accuracy: 0.9460\n",
      "Epoch 57/120\n",
      "438/438 [==============================] - 25s 56ms/step - loss: 1.4352e-07 - accuracy: 1.0000 - val_loss: 0.7202 - val_accuracy: 0.9460\n"
     ]
    }
   ],
   "source": [
    "stop_training_callback = early_stop_training\n",
    "history = model.fit(X_train, y_train, epochs=120, validation_data=(X_val, y_val), callbacks=[stop_training_callback])"
   ]
  },
  {
   "cell_type": "code",
   "execution_count": 12,
   "id": "5ee212c1-e6c2-4aa9-a139-12581816aa1f",
   "metadata": {},
   "outputs": [
    {
     "data": {
      "image/png": "[encoded data removed]",
      "text/plain": [
       "<Figure size 640x480 with 1 Axes>"
      ]
     },
     "metadata": {},
     "output_type": "display_data"
    },
    {
     "name": "stdout",
     "output_type": "stream",
     "text": [
      "\n"
     ]
    },
    {
     "data": {
      "image/png": "[encoded data removed]",
      "text/plain": [
       "<Figure size 640x480 with 1 Axes>"
      ]
     },
     "metadata": {},
     "output_type": "display_data"
    }
   ],
   "source": [
    "acc=history.history['accuracy']\n",
    "val_acc=history.history['val_accuracy']\n",
    "loss=history.history['loss']\n",
    "val_loss=history.history['val_loss']\n",
    "\n",
    "epochs=range(len(acc))\n",
    "\n",
    "plt.plot(epochs, acc, 'r', \"Training Accuracy\")\n",
    "plt.plot(epochs, val_acc, 'b', \"Validation Accuracy\")\n",
    "plt.title('Training and validation accuracy')\n",
    "plt.show()\n",
    "print(\"\")\n",
    "\n",
    "plt.plot(epochs, loss, 'r', \"Training Loss\")\n",
    "plt.plot(epochs, val_loss, 'b', \"Validation Loss\")\n",
    "plt.show()"
   ]
  },
  {
   "cell_type": "code",
   "execution_count": 13,
   "id": "a62f36f3-e1ec-457a-aa8b-c640890a3b78",
   "metadata": {},
   "outputs": [
    {
     "name": "stdout",
     "output_type": "stream",
     "text": [
      "125/125 [==============================] - 2s 14ms/step - loss: 0.5196 - accuracy: 0.9517\n",
      "Test Loss: 0.5196482539176941\n",
      "Test Accuracy: 0.9517499804496765\n",
      "125/125 [==============================] - 2s 11ms/step\n",
      "Confusion Matrix:\n",
      "[[1925   75]\n",
      " [ 116 1884]]\n",
      "\n",
      "Classification Report:\n",
      "               precision    recall  f1-score   support\n",
      "\n",
      "    Queen_FFT       0.94      0.96      0.95      2000\n",
      "Queenless_FFT       0.96      0.94      0.95      2000\n",
      "\n",
      "     accuracy                           0.95      4000\n",
      "    macro avg       0.95      0.95      0.95      4000\n",
      " weighted avg       0.95      0.95      0.95      4000\n",
      "\n"
     ]
    }
   ],
   "source": [
    "from sklearn.metrics import confusion_matrix, classification_report\n",
    "# Evaluate the model on the test set\n",
    "test_loss, test_accuracy = model.evaluate(X_test, y_test)\n",
    "print(f\"Test Loss: {test_loss}\")\n",
    "print(f\"Test Accuracy: {test_accuracy}\")\n",
    "\n",
    "y_pred = np.argmax(model.predict(X_test), axis=-1)\n",
    "\n",
    "y_test_labels = label_encoder.inverse_transform(encoded_test_labels)\n",
    "y_pred_labels = label_encoder.inverse_transform(y_pred)\n",
    "\n",
    "cm = confusion_matrix(y_test_labels, y_pred_labels)\n",
    "\n",
    "classification_rep = classification_report(y_test_labels, y_pred_labels)\n",
    "\n",
    "print(\"Confusion Matrix:\")\n",
    "print(cm)\n",
    "print(\"\\nClassification Report:\")\n",
    "print(classification_rep)"
   ]
  },
  {
   "cell_type": "code",
   "execution_count": 15,
   "id": "ca254512-fe9b-4386-8328-4c8395d7c47b",
   "metadata": {},
   "outputs": [
    {
     "name": "stdout",
     "output_type": "stream",
     "text": [
      "Model: \"sequential\"\n",
      "_________________________________________________________________\n",
      " Layer (type)                Output Shape              Param #   \n",
      "=================================================================\n",
      " conv1d (Conv1D)             (None, 44098, 32)         128       \n",
      "                                                                 \n",
      " max_pooling1d (MaxPooling1D  (None, 22049, 32)        0         \n",
      " )                                                               \n",
      "                                                                 \n",
      " conv1d_1 (Conv1D)           (None, 22047, 64)         6208      \n",
      "                                                                 \n",
      " max_pooling1d_1 (MaxPooling  (None, 11023, 64)        0         \n",
      " 1D)                                                             \n",
      "                                                                 \n",
      " conv1d_2 (Conv1D)           (None, 11021, 128)        24704     \n",
      "                                                                 \n",
      " max_pooling1d_2 (MaxPooling  (None, 5510, 128)        0         \n",
      " 1D)                                                             \n",
      "                                                                 \n",
      " conv1d_3 (Conv1D)           (None, 5508, 256)         98560     \n",
      "                                                                 \n",
      " max_pooling1d_3 (MaxPooling  (None, 2754, 256)        0         \n",
      " 1D)                                                             \n",
      "                                                                 \n",
      " flatten (Flatten)           (None, 705024)            0         \n",
      "                                                                 \n",
      " dense (Dense)               (None, 256)               180486400 \n",
      "                                                                 \n",
      " dense_1 (Dense)             (None, 2)                 514       \n",
      "                                                                 \n",
      "=================================================================\n",
      "Total params: 180,616,514\n",
      "Trainable params: 180,616,514\n",
      "Non-trainable params: 0\n",
      "_________________________________________________________________\n"
     ]
    }
   ],
   "source": [
    "model.summary()"
   ]
  },
  {
   "cell_type": "code",
   "execution_count": 20,
   "id": "1b172fc3-5f49-472c-8da5-6d738bd6835e",
   "metadata": {},
   "outputs": [
    {
     "ename": "NameError",
     "evalue": "name 'keras' is not defined",
     "output_type": "error",
     "traceback": [
      "\u001b[0;31m---------------------------------------------------------------------------\u001b[0m",
      "\u001b[0;31mNameError\u001b[0m                                 Traceback (most recent call last)",
      "Cell \u001b[0;32mIn[20], line 2\u001b[0m\n\u001b[1;32m      1\u001b[0m \u001b[38;5;28;01mfrom\u001b[39;00m \u001b[38;5;21;01mtensorflow\u001b[39;00m\u001b[38;5;21;01m.\u001b[39;00m\u001b[38;5;21;01mkeras\u001b[39;00m\u001b[38;5;21;01m.\u001b[39;00m\u001b[38;5;21;01mutils\u001b[39;00m \u001b[38;5;28;01mimport\u001b[39;00m plot_model\n\u001b[0;32m----> 2\u001b[0m model \u001b[38;5;241m=\u001b[39m \u001b[43mkeras\u001b[49m\u001b[38;5;241m.\u001b[39mSequential()\n\u001b[1;32m      3\u001b[0m plot_model(model, to_file\u001b[38;5;241m=\u001b[39m\u001b[38;5;124m'\u001b[39m\u001b[38;5;124mmodel.png\u001b[39m\u001b[38;5;124m'\u001b[39m, show_shapes\u001b[38;5;241m=\u001b[39m\u001b[38;5;28;01mTrue\u001b[39;00m)\n",
      "\u001b[0;31mNameError\u001b[0m: name 'keras' is not defined"
     ]
    }
   ],
   "source": [
    "\n",
    "import tensorflow as tf\n",
    "from tensorflow import keras\n",
    "from tensorflow.keras.utils import plot_model"
   ]
  },
  {
   "cell_type": "code",
   "execution_count": null,
   "id": "a095df18-35dc-4558-9840-39855da3e29c",
   "metadata": {},
   "outputs": [],
   "source": []
  }
 ],
 "metadata": {
  "kernelspec": {
   "display_name": "Python 3 (ipykernel)",
   "language": "python",
   "name": "python3"
  },
  "language_info": {
   "codemirror_mode": {
    "name": "ipython",
    "version": 3
   },
   "file_extension": ".py",
   "mimetype": "text/x-python",
   "name": "python",
   "nbconvert_exporter": "python",
   "pygments_lexer": "ipython3",
   "version": "3.8.10"
  }
 },
 "nbformat": 4,
 "nbformat_minor": 5
}
