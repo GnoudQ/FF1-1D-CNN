{
 "cells": [
  {
   "cell_type": "code",
   "execution_count": 9,
   "id": "0226754d",
   "metadata": {},
   "outputs": [
    {
     "name": "stdout",
     "output_type": "stream",
     "text": [
      "DONE\n"
     ]
    }
   ],
   "source": [
    "import librosa\n",
    "import numpy as np\n",
    "import os\n",
    "\n",
    "def fft_extract(filename):\n",
    "    y, sr = librosa.load(filename)\n",
    "    fft = np.abs(np.fft.fft(y))\n",
    "    fft_feature = np.ndarray.flatten(fft)\n",
    "    return fft_feature\n",
    "\n",
    "# Folder path containing the WAV files\n",
    "folder_path = 'data/train/Queen'\n",
    "\n",
    "# Create a folder to save the FFT files\n",
    "save_folder = 'fft_npa/train/Queen_FFT'\n",
    "os.makedirs(save_folder, exist_ok=True)\n",
    "\n",
    "# Get a list of all WAV files in the folder\n",
    "wav_files = [f for f in os.listdir(folder_path) if f.endswith('.wav')]\n",
    "\n",
    "# Process each WAV file and save the corresponding FFT features\n",
    "for wav_file in wav_files:\n",
    "    filename = os.path.join(folder_path, wav_file)\n",
    "    fft_features = fft_extract(filename)\n",
    "    \n",
    "    # Create a save path for the FFT features\n",
    "    save_path = os.path.join(save_folder, os.path.splitext(wav_file)[0] + '_fft.npy')\n",
    "    \n",
    "    # Save the FFT features\n",
    "    np.save(save_path, fft_features)\n",
    "\n",
    "print('DONE')\n"
   ]
  },
  {
   "cell_type": "code",
   "execution_count": null,
   "id": "3179b87c",
   "metadata": {},
   "outputs": [],
   "source": []
  }
 ],
 "metadata": {
  "kernelspec": {
   "display_name": "Python 3 (ipykernel)",
   "language": "python",
   "name": "python3"
  },
  "language_info": {
   "codemirror_mode": {
    "name": "ipython",
    "version": 3
   },
   "file_extension": ".py",
   "mimetype": "text/x-python",
   "name": "python",
   "nbconvert_exporter": "python",
   "pygments_lexer": "ipython3",
   "version": "3.10.9"
  }
 },
 "nbformat": 4,
 "nbformat_minor": 5
}
